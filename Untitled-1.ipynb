{
 "cells": [
  {
   "cell_type": "code",
   "execution_count": 10,
   "metadata": {},
   "outputs": [],
   "source": [
    "from lxml import etree"
   ]
  },
  {
   "cell_type": "code",
   "execution_count": 11,
   "metadata": {},
   "outputs": [
    {
     "data": {
      "text/plain": [
       "'\\n- unordereditem 1\\n\\n- unordered item 2\\n'"
      ]
     },
     "execution_count": 11,
     "metadata": {},
     "output_type": "execute_result"
    }
   ],
   "source": [
    "txt = \"\"\"<BulletedList>\n",
    "            <ListItem>\n",
    "                <Paragraph>unordereditem 1</Paragraph>\n",
    "            </ListItem>\n",
    "            <ListItem>\n",
    "                <Paragraph>unordered item 2</Paragraph>\n",
    "            </ListItem>\n",
    "        </BulletedList>\"\"\"\n",
    "source_doc = etree.fromstring(txt.encode(\"utf-8\"))\n"
   ]
  },
  {
   "cell_type": "code",
   "execution_count": 12,
   "metadata": {},
   "outputs": [
    {
     "ename": "AssertionError",
     "evalue": "",
     "output_type": "error",
     "traceback": [
      "\u001b[0;31m---------------------------------------------------------------------------\u001b[0m",
      "\u001b[0;31mAssertionError\u001b[0m                            Traceback (most recent call last)",
      "\u001b[0;32m/var/folders/10/8lp40z8x2hj_cch9j4rk_cpm0000gs/T/ipykernel_78992/3744904877.py\u001b[0m in \u001b[0;36m<cell line: 0>\u001b[0;34m()\u001b[0m\n\u001b[1;32m      6\u001b[0m \u001b[0;34m\u001b[0m\u001b[0m\n\u001b[1;32m      7\u001b[0m \u001b[0mzz\u001b[0m \u001b[0;34m=\u001b[0m \u001b[0mxslt_transformer\u001b[0m\u001b[0;34m(\u001b[0m\u001b[0msource_doc\u001b[0m\u001b[0;34m)\u001b[0m\u001b[0;34m\u001b[0m\u001b[0;34m\u001b[0m\u001b[0m\n\u001b[0;32m----> 8\u001b[0;31m \u001b[0;32massert\u001b[0m \u001b[0mstr\u001b[0m\u001b[0;34m(\u001b[0m\u001b[0mzz\u001b[0m\u001b[0;34m)\u001b[0m \u001b[0;34m==\u001b[0m \u001b[0;34m\"__This is my text__\"\u001b[0m\u001b[0;34m\u001b[0m\u001b[0;34m\u001b[0m\u001b[0m\n\u001b[0m",
      "\u001b[0;31mAssertionError\u001b[0m: "
     ]
    }
   ],
   "source": [
    "\n",
    "xslt = \"ou_xml_validator/xslt/ouxml2myst.xslt\"\n",
    "_xslt = open(xslt).read()\n",
    "\n",
    "xslt_doc = etree.fromstring(_xslt)\n",
    "xslt_transformer = etree.XSLT(xslt_doc)\n",
    "\n",
    "zz = xslt_transformer(source_doc)\n",
    "assert str(zz) == \"__This is my text__\""
   ]
  },
  {
   "cell_type": "code",
   "execution_count": null,
   "metadata": {},
   "outputs": [
    {
     "data": {
      "text/plain": [
       "<Element b at 0x107982bc0>"
      ]
     },
     "execution_count": 10,
     "metadata": {},
     "output_type": "execute_result"
    }
   ],
   "source": [
    "\"ou_xml_validator/xslt/sphinxXml2ouxml.xslt\""
   ]
  },
  {
   "cell_type": "code",
   "execution_count": 13,
   "metadata": {},
   "outputs": [],
   "source": [
    "xslt2 = \"ou_xml_validator/xslt/sphinxXml2ouxml.xslt\"\n",
    "_xslt2 = open(xslt2).read().format(root_node=\"Section\")\n",
    "\n",
    "xslt_doc2 = etree.fromstring(_xslt2)\n",
    "xslt_transformer2 = etree.XSLT(xslt_doc2)"
   ]
  },
  {
   "cell_type": "markdown",
   "metadata": {},
   "source": [
    "a list:\n",
    "\n",
    "- asas\n",
    "\n",
    "- asasa"
   ]
  },
  {
   "cell_type": "code",
   "execution_count": 14,
   "metadata": {},
   "outputs": [
    {
     "data": {
      "text/plain": [
       "'<Paragraph>Some text.</Paragraph>'"
      ]
     },
     "execution_count": 14,
     "metadata": {},
     "output_type": "execute_result"
    }
   ],
   "source": [
    "txt2 = \"\"\"<paragraph>Some text.</paragraph>\n",
    "\"\"\"\n",
    "\n",
    "source_doc2 = etree.fromstring(txt2.encode(\"utf-8\"))\n",
    "str(xslt_transformer2(source_doc2)).replace('<?xml version=\"1.0\"?>\\n', \"\").strip()"
   ]
  },
  {
   "cell_type": "code",
   "execution_count": 15,
   "metadata": {},
   "outputs": [
    {
     "data": {
      "text/plain": [
       "'```\\n   asasasa   asasasas        \\n```\\n'"
      ]
     },
     "execution_count": 15,
     "metadata": {},
     "output_type": "execute_result"
    }
   ],
   "source": [
    "import mdformat\n",
    "\n",
    "mdformat.text(\"       asasasa   asasasas        \")"
   ]
  },
  {
   "cell_type": "code",
   "execution_count": 16,
   "metadata": {},
   "outputs": [
    {
     "data": {
      "text/plain": [
       "'[[\"<b>This is my text</b>\", \"__This is my text__\"], [\"<i>This is my text</i>\", \"*This is my text*\"], [\"<Paragraph>A line.\\\\nAnother.</Paragraph>\", \"\\\\nA line.\\\\nAnother.\\\\n\"], [\"<Paragraph>A line.\\\\nAnother. With an <i>emphasised</i> word.</Paragraph>\", \"\\\\nA line.\\\\nAnother. With an *emphasised* word.\\\\n\"], [\"<BulletedList>\\\\n            <ListItem>\\\\n                <Paragraph>item 1</Paragraph>\\\\n            </ListItem>\\\\n            <ListItem>\\\\n                <Paragraph>item 2</Paragraph>\\\\n            </ListItem>\\\\n        </BulletedList>\", \"\\\\n- item 1\\\\n\\\\n- item 2\\\\n\"]]'"
      ]
     },
     "execution_count": 16,
     "metadata": {},
     "output_type": "execute_result"
    }
   ],
   "source": [
    "import json\n",
    "\n",
    "json.dumps(\n",
    "    [\n",
    "        (\"<b>This is my text</b>\", \"__This is my text__\"),\n",
    "        (\"<i>This is my text</i>\", \"*This is my text*\"),\n",
    "        (\n",
    "            \"<Paragraph>A line.\\nAnother.</Paragraph>\",\n",
    "            \"\\nA line.\\nAnother.\\n\",\n",
    "        ),\n",
    "        (\n",
    "            \"<Paragraph>A line.\\nAnother. With an <i>emphasised</i> word.</Paragraph>\",\n",
    "            \"\\nA line.\\nAnother. With an *emphasised* word.\\n\",\n",
    "        ),\n",
    "        (\n",
    "            \"\"\"<BulletedList>\n",
    "            <ListItem>\n",
    "                <Paragraph>item 1</Paragraph>\n",
    "            </ListItem>\n",
    "            <ListItem>\n",
    "                <Paragraph>item 2</Paragraph>\n",
    "            </ListItem>\n",
    "        </BulletedList>\"\"\",\n",
    "            \"\\n- item 1\\n\\n- item 2\\n\",\n",
    "        )\n",
    "        # Add more test cases as needed\n",
    "    ]\n",
    ")"
   ]
  },
  {
   "cell_type": "code",
   "execution_count": 17,
   "metadata": {},
   "outputs": [
    {
     "data": {
      "text/plain": [
       "'<MediaContent type=\"audio\" src=\"test.mp3\">\\n<Caption>An audio caption.</Caption>\\n</MediaContent>'"
      ]
     },
     "execution_count": 17,
     "metadata": {},
     "output_type": "execute_result"
    }
   ],
   "source": [
    "txt3 = \"\"\"<ou_audio autoplay=\"False\" controls=\"True\" klass=\"\" loop=\"False\" muted=\"False\" preload=\"auto\" src=\"test.mp3\">\\n<caption>An audio caption.</caption>\\n</ou_audio>\n",
    "\"\"\"\n",
    "\n",
    "source_doc3 = etree.fromstring(txt3.encode(\"utf-8\"))\n",
    "ouxml = xslt_transformer2(source_doc3)\n",
    "str(ouxml).replace('<?xml version=\"1.0\"?>\\n', \"\").strip()"
   ]
  },
  {
   "cell_type": "code",
   "execution_count": 20,
   "metadata": {},
   "outputs": [
    {
     "data": {
      "text/plain": [
       "<lxml.etree._XSLTResultTree at 0x10bb0d2a0>"
      ]
     },
     "execution_count": 20,
     "metadata": {},
     "output_type": "execute_result"
    }
   ],
   "source": [
    "xslt_transformer(ouxml)"
   ]
  },
  {
   "cell_type": "code",
   "execution_count": 23,
   "metadata": {},
   "outputs": [
    {
     "data": {
      "text/plain": [
       "lxml.etree._XSLTResultTree"
      ]
     },
     "execution_count": 23,
     "metadata": {},
     "output_type": "execute_result"
    }
   ],
   "source": [
    "type(ouxml)"
   ]
  },
  {
   "cell_type": "code",
   "execution_count": 22,
   "metadata": {},
   "outputs": [
    {
     "data": {
      "text/plain": [
       "'<MediaContent type=\"audio\" src=\"test.mp3\"><Caption>An audio caption.</Caption></MediaContent>'"
      ]
     },
     "execution_count": 22,
     "metadata": {},
     "output_type": "execute_result"
    }
   ],
   "source": [
    "etree.tostring(ouxml, pretty_print=False, encoding=\"utf-8\").decode(\"utf-8\")"
   ]
  },
  {
   "cell_type": "code",
   "execution_count": null,
   "metadata": {},
   "outputs": [],
   "source": []
  },
  {
   "cell_type": "code",
   "execution_count": null,
   "metadata": {},
   "outputs": [],
   "source": []
  }
 ],
 "metadata": {
  "kernelspec": {
   "display_name": "Python 3",
   "language": "python",
   "name": "python3"
  },
  "language_info": {
   "codemirror_mode": {
    "name": "ipython",
    "version": 3
   },
   "file_extension": ".py",
   "mimetype": "text/x-python",
   "name": "python",
   "nbconvert_exporter": "python",
   "pygments_lexer": "ipython3",
   "version": "3.11.0"
  }
 },
 "nbformat": 4,
 "nbformat_minor": 2
}
